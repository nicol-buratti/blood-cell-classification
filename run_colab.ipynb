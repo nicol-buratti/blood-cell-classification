{
 "cells": [
  {
   "cell_type": "code",
   "execution_count": null,
   "id": "b7256161",
   "metadata": {},
   "outputs": [],
   "source": [
    "!git clone https://github.com/nicol-buratti/blood-cell-classification"
   ]
  },
  {
   "cell_type": "code",
   "execution_count": null,
   "id": "7011a136",
   "metadata": {},
   "outputs": [],
   "source": [
    "!pip install dotmap==1.3.30 kagglehub==0.3.12"
   ]
  },
  {
   "cell_type": "code",
   "execution_count": null,
   "id": "95b8d748",
   "metadata": {},
   "outputs": [],
   "source": [
    "!python blood-cell-classification/main.py -c blood-cell-classification/configs/conv_blood_cell_config.json"
   ]
  }
 ],
 "metadata": {
  "kernelspec": {
   "display_name": ".venv (3.10.12)",
   "language": "python",
   "name": "python3"
  },
  "language_info": {
   "codemirror_mode": {
    "name": "ipython",
    "version": 3
   },
   "file_extension": ".py",
   "mimetype": "text/x-python",
   "name": "python",
   "nbconvert_exporter": "python",
   "pygments_lexer": "ipython3",
   "version": "3.10.12"
  }
 },
 "nbformat": 4,
 "nbformat_minor": 5
}
