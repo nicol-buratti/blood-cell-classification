{
 "cells": [
  {
   "cell_type": "code",
   "execution_count": null,
   "id": "b7256161",
   "metadata": {},
   "outputs": [],
   "source": [
    "!git clone https://github.com/nicol-buratti/blood-cell-classification"
   ]
  },
  {
   "cell_type": "code",
   "execution_count": null,
   "id": "7011a136",
   "metadata": {},
   "outputs": [],
   "source": [
    "!pip install dotmap==1.3.30 kagglehub==0.3.12"
   ]
  },
  {
   "cell_type": "code",
   "execution_count": null,
   "id": "5fec13fc",
   "metadata": {},
   "outputs": [
    {
     "ename": "",
     "evalue": "",
     "output_type": "error",
     "traceback": [
      "\u001b[1;31mNon è stato possibile avviare il kernel perché l'ambiente Python 'Python' non è più disponibile. Provare a selezionare un altro kernel o ad aggiornare l'elenco di ambienti Python."
     ]
    }
   ],
   "source": [
    "from google.colab import drive\n",
    "drive.mount('/content/drive')"
   ]
  },
  {
   "cell_type": "code",
   "execution_count": null,
   "id": "95b8d748",
   "metadata": {},
   "outputs": [],
   "source": [
    "!python blood-cell-classification/main.py -c blood-cell-classification/configs/conv_blood_cell_config.json"
   ]
  },
  {
   "cell_type": "code",
   "execution_count": null,
   "id": "927a5839",
   "metadata": {},
   "outputs": [],
   "source": [
    "from pathlib import Path\n",
    "import shutil\n",
    "\n",
    "target_dir = Path(\"/content/drive/MyDrive/Deep Learning/experiments\")\n",
    "\n",
    "for p in Path(\"/content/experiments\").iterdir():\n",
    "  shutil.move(p, target_dir)"
   ]
  }
 ],
 "metadata": {
  "kernelspec": {
   "display_name": "Python 3",
   "language": "python",
   "name": "python3"
  },
  "language_info": {
   "codemirror_mode": {
    "name": "ipython",
    "version": 3
   },
   "file_extension": ".py",
   "mimetype": "text/x-python",
   "name": "python",
   "nbconvert_exporter": "python",
   "pygments_lexer": "ipython3",
   "version": "3.10.12"
  }
 },
 "nbformat": 4,
 "nbformat_minor": 5
}
